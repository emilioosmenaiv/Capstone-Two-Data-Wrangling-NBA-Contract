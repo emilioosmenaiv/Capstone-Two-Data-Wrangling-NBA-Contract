{
 "cells": [
  {
   "cell_type": "code",
   "execution_count": 3,
   "id": "36c50e35",
   "metadata": {},
   "outputs": [],
   "source": [
    "import os\n",
    "import math \n",
    "import numpy as np\n",
    "import pandas as pd\n",
    "import matplotlib.pyplot as plt\n",
    "import seaborn as sns\n",
    "from sklearn.metrics import confusion_matrix\n",
    "from sklearn.metrics import recall_score\n",
    "from sklearn.metrics import precision_score\n",
    "#ignore warning messages to ensure clean outputs\n",
    "import warnings\n",
    "warnings.filterwarnings('ignore')"
   ]
  },
  {
   "cell_type": "code",
   "execution_count": 4,
   "id": "5b70bb8e",
   "metadata": {},
   "outputs": [
    {
     "data": {
      "text/html": [
       "<div>\n",
       "<style scoped>\n",
       "    .dataframe tbody tr th:only-of-type {\n",
       "        vertical-align: middle;\n",
       "    }\n",
       "\n",
       "    .dataframe tbody tr th {\n",
       "        vertical-align: top;\n",
       "    }\n",
       "\n",
       "    .dataframe thead th {\n",
       "        text-align: right;\n",
       "    }\n",
       "</style>\n",
       "<table border=\"1\" class=\"dataframe\">\n",
       "  <thead>\n",
       "    <tr style=\"text-align: right;\">\n",
       "      <th></th>\n",
       "      <th>Season</th>\n",
       "      <th>Age</th>\n",
       "      <th>Tm</th>\n",
       "      <th>Player</th>\n",
       "      <th>Pos</th>\n",
       "      <th>G</th>\n",
       "      <th>GS</th>\n",
       "      <th>MP</th>\n",
       "      <th>FG</th>\n",
       "      <th>FGA</th>\n",
       "      <th>...</th>\n",
       "      <th>ORB</th>\n",
       "      <th>DRB</th>\n",
       "      <th>TRB</th>\n",
       "      <th>AST</th>\n",
       "      <th>STL</th>\n",
       "      <th>BLK</th>\n",
       "      <th>TOV</th>\n",
       "      <th>PF</th>\n",
       "      <th>PTS</th>\n",
       "      <th>Max</th>\n",
       "    </tr>\n",
       "  </thead>\n",
       "  <tbody>\n",
       "    <tr>\n",
       "      <th>0</th>\n",
       "      <td>2015-16</td>\n",
       "      <td>19</td>\n",
       "      <td>PHO</td>\n",
       "      <td>Booker</td>\n",
       "      <td>SG</td>\n",
       "      <td>76</td>\n",
       "      <td>51</td>\n",
       "      <td>27.7</td>\n",
       "      <td>4.8</td>\n",
       "      <td>11.4</td>\n",
       "      <td>...</td>\n",
       "      <td>0.4</td>\n",
       "      <td>2.1</td>\n",
       "      <td>2.5</td>\n",
       "      <td>2.6</td>\n",
       "      <td>0.6</td>\n",
       "      <td>0.3</td>\n",
       "      <td>2.1</td>\n",
       "      <td>3.0</td>\n",
       "      <td>13.8</td>\n",
       "      <td>No</td>\n",
       "    </tr>\n",
       "    <tr>\n",
       "      <th>1</th>\n",
       "      <td>2016-17</td>\n",
       "      <td>20</td>\n",
       "      <td>PHO</td>\n",
       "      <td>Booker</td>\n",
       "      <td>SG</td>\n",
       "      <td>78</td>\n",
       "      <td>78</td>\n",
       "      <td>35.0</td>\n",
       "      <td>7.8</td>\n",
       "      <td>18.3</td>\n",
       "      <td>...</td>\n",
       "      <td>0.6</td>\n",
       "      <td>2.6</td>\n",
       "      <td>3.2</td>\n",
       "      <td>3.4</td>\n",
       "      <td>0.9</td>\n",
       "      <td>0.3</td>\n",
       "      <td>3.1</td>\n",
       "      <td>3.1</td>\n",
       "      <td>22.1</td>\n",
       "      <td>No</td>\n",
       "    </tr>\n",
       "    <tr>\n",
       "      <th>2</th>\n",
       "      <td>2017-18</td>\n",
       "      <td>21</td>\n",
       "      <td>PHO</td>\n",
       "      <td>Booker</td>\n",
       "      <td>SG</td>\n",
       "      <td>54</td>\n",
       "      <td>54</td>\n",
       "      <td>34.5</td>\n",
       "      <td>8.4</td>\n",
       "      <td>19.5</td>\n",
       "      <td>...</td>\n",
       "      <td>0.5</td>\n",
       "      <td>4.0</td>\n",
       "      <td>4.5</td>\n",
       "      <td>4.7</td>\n",
       "      <td>0.9</td>\n",
       "      <td>0.3</td>\n",
       "      <td>3.6</td>\n",
       "      <td>3.1</td>\n",
       "      <td>24.9</td>\n",
       "      <td>No</td>\n",
       "    </tr>\n",
       "    <tr>\n",
       "      <th>3</th>\n",
       "      <td>2018-19</td>\n",
       "      <td>22</td>\n",
       "      <td>PHO</td>\n",
       "      <td>Booker</td>\n",
       "      <td>SG</td>\n",
       "      <td>64</td>\n",
       "      <td>64</td>\n",
       "      <td>35.0</td>\n",
       "      <td>9.2</td>\n",
       "      <td>19.6</td>\n",
       "      <td>...</td>\n",
       "      <td>0.6</td>\n",
       "      <td>3.5</td>\n",
       "      <td>4.1</td>\n",
       "      <td>6.8</td>\n",
       "      <td>0.9</td>\n",
       "      <td>0.2</td>\n",
       "      <td>4.1</td>\n",
       "      <td>3.1</td>\n",
       "      <td>26.6</td>\n",
       "      <td>No</td>\n",
       "    </tr>\n",
       "    <tr>\n",
       "      <th>4</th>\n",
       "      <td>2019-20</td>\n",
       "      <td>23</td>\n",
       "      <td>PHO</td>\n",
       "      <td>Booker</td>\n",
       "      <td>SG</td>\n",
       "      <td>70</td>\n",
       "      <td>70</td>\n",
       "      <td>35.9</td>\n",
       "      <td>9.0</td>\n",
       "      <td>18.3</td>\n",
       "      <td>...</td>\n",
       "      <td>0.4</td>\n",
       "      <td>3.8</td>\n",
       "      <td>4.2</td>\n",
       "      <td>6.5</td>\n",
       "      <td>0.7</td>\n",
       "      <td>0.3</td>\n",
       "      <td>3.8</td>\n",
       "      <td>3.0</td>\n",
       "      <td>26.6</td>\n",
       "      <td>No</td>\n",
       "    </tr>\n",
       "  </tbody>\n",
       "</table>\n",
       "<p>5 rows × 31 columns</p>\n",
       "</div>"
      ],
      "text/plain": [
       "    Season  Age   Tm  Player Pos   G  GS    MP   FG   FGA  ...  ORB  DRB  TRB  \\\n",
       "0  2015-16   19  PHO  Booker  SG  76  51  27.7  4.8  11.4  ...  0.4  2.1  2.5   \n",
       "1  2016-17   20  PHO  Booker  SG  78  78  35.0  7.8  18.3  ...  0.6  2.6  3.2   \n",
       "2  2017-18   21  PHO  Booker  SG  54  54  34.5  8.4  19.5  ...  0.5  4.0  4.5   \n",
       "3  2018-19   22  PHO  Booker  SG  64  64  35.0  9.2  19.6  ...  0.6  3.5  4.1   \n",
       "4  2019-20   23  PHO  Booker  SG  70  70  35.9  9.0  18.3  ...  0.4  3.8  4.2   \n",
       "\n",
       "   AST  STL  BLK  TOV   PF   PTS  Max  \n",
       "0  2.6  0.6  0.3  2.1  3.0  13.8   No  \n",
       "1  3.4  0.9  0.3  3.1  3.1  22.1   No  \n",
       "2  4.7  0.9  0.3  3.6  3.1  24.9   No  \n",
       "3  6.8  0.9  0.2  4.1  3.1  26.6   No  \n",
       "4  6.5  0.7  0.3  3.8  3.0  26.6   No  \n",
       "\n",
       "[5 rows x 31 columns]"
      ]
     },
     "execution_count": 4,
     "metadata": {},
     "output_type": "execute_result"
    }
   ],
   "source": [
    "df = pd.read_csv('NBA_Contract_Data_csv.csv')\n",
    "df.head()"
   ]
  },
  {
   "cell_type": "code",
   "execution_count": 5,
   "id": "046b1669",
   "metadata": {},
   "outputs": [
    {
     "data": {
      "text/plain": [
       "Index(['Season', 'Age', 'Tm', 'Player', 'Pos', 'G', 'GS', 'MP', 'FG', 'FGA',\n",
       "       'FG%', '3P', '3PA', '3P%', '2P', '2PA', '2P%', 'eFG%', 'FT', 'FTA',\n",
       "       'FT%', 'ORB', 'DRB', 'TRB', 'AST', 'STL', 'BLK', 'TOV', 'PF', 'PTS',\n",
       "       'Max'],\n",
       "      dtype='object')"
      ]
     },
     "execution_count": 5,
     "metadata": {},
     "output_type": "execute_result"
    }
   ],
   "source": [
    "df.columns"
   ]
  },
  {
   "cell_type": "code",
   "execution_count": 6,
   "id": "8adb800a",
   "metadata": {},
   "outputs": [],
   "source": [
    "dfo=df.select_dtypes(include=['object']) # select object type columns\n",
    "df = pd.concat([df.drop(dfo, axis=1), pd.get_dummies(dfo)], axis=1)"
   ]
  },
  {
   "cell_type": "code",
   "execution_count": 7,
   "id": "cab81cac",
   "metadata": {},
   "outputs": [
    {
     "data": {
      "text/html": [
       "<div>\n",
       "<style scoped>\n",
       "    .dataframe tbody tr th:only-of-type {\n",
       "        vertical-align: middle;\n",
       "    }\n",
       "\n",
       "    .dataframe tbody tr th {\n",
       "        vertical-align: top;\n",
       "    }\n",
       "\n",
       "    .dataframe thead th {\n",
       "        text-align: right;\n",
       "    }\n",
       "</style>\n",
       "<table border=\"1\" class=\"dataframe\">\n",
       "  <thead>\n",
       "    <tr style=\"text-align: right;\">\n",
       "      <th></th>\n",
       "      <th>Age</th>\n",
       "      <th>G</th>\n",
       "      <th>GS</th>\n",
       "      <th>MP</th>\n",
       "      <th>FG</th>\n",
       "      <th>FGA</th>\n",
       "      <th>FG%</th>\n",
       "      <th>3P</th>\n",
       "      <th>3PA</th>\n",
       "      <th>3P%</th>\n",
       "      <th>...</th>\n",
       "      <th>Player_Oladipo</th>\n",
       "      <th>Player_Schroder</th>\n",
       "      <th>Player_Thompson</th>\n",
       "      <th>Player_Westbrook</th>\n",
       "      <th>Pos_PG</th>\n",
       "      <th>Pos_PG,SG</th>\n",
       "      <th>Pos_SF</th>\n",
       "      <th>Pos_SG</th>\n",
       "      <th>Max_No</th>\n",
       "      <th>Max_Yes</th>\n",
       "    </tr>\n",
       "  </thead>\n",
       "  <tbody>\n",
       "    <tr>\n",
       "      <th>0</th>\n",
       "      <td>19</td>\n",
       "      <td>76</td>\n",
       "      <td>51</td>\n",
       "      <td>27.7</td>\n",
       "      <td>4.8</td>\n",
       "      <td>11.4</td>\n",
       "      <td>0.423</td>\n",
       "      <td>1.3</td>\n",
       "      <td>3.8</td>\n",
       "      <td>0.343</td>\n",
       "      <td>...</td>\n",
       "      <td>0</td>\n",
       "      <td>0</td>\n",
       "      <td>0</td>\n",
       "      <td>0</td>\n",
       "      <td>0</td>\n",
       "      <td>0</td>\n",
       "      <td>0</td>\n",
       "      <td>1</td>\n",
       "      <td>1</td>\n",
       "      <td>0</td>\n",
       "    </tr>\n",
       "    <tr>\n",
       "      <th>1</th>\n",
       "      <td>20</td>\n",
       "      <td>78</td>\n",
       "      <td>78</td>\n",
       "      <td>35.0</td>\n",
       "      <td>7.8</td>\n",
       "      <td>18.3</td>\n",
       "      <td>0.423</td>\n",
       "      <td>1.9</td>\n",
       "      <td>5.2</td>\n",
       "      <td>0.363</td>\n",
       "      <td>...</td>\n",
       "      <td>0</td>\n",
       "      <td>0</td>\n",
       "      <td>0</td>\n",
       "      <td>0</td>\n",
       "      <td>0</td>\n",
       "      <td>0</td>\n",
       "      <td>0</td>\n",
       "      <td>1</td>\n",
       "      <td>1</td>\n",
       "      <td>0</td>\n",
       "    </tr>\n",
       "    <tr>\n",
       "      <th>2</th>\n",
       "      <td>21</td>\n",
       "      <td>54</td>\n",
       "      <td>54</td>\n",
       "      <td>34.5</td>\n",
       "      <td>8.4</td>\n",
       "      <td>19.5</td>\n",
       "      <td>0.432</td>\n",
       "      <td>2.7</td>\n",
       "      <td>7.1</td>\n",
       "      <td>0.383</td>\n",
       "      <td>...</td>\n",
       "      <td>0</td>\n",
       "      <td>0</td>\n",
       "      <td>0</td>\n",
       "      <td>0</td>\n",
       "      <td>0</td>\n",
       "      <td>0</td>\n",
       "      <td>0</td>\n",
       "      <td>1</td>\n",
       "      <td>1</td>\n",
       "      <td>0</td>\n",
       "    </tr>\n",
       "    <tr>\n",
       "      <th>3</th>\n",
       "      <td>22</td>\n",
       "      <td>64</td>\n",
       "      <td>64</td>\n",
       "      <td>35.0</td>\n",
       "      <td>9.2</td>\n",
       "      <td>19.6</td>\n",
       "      <td>0.467</td>\n",
       "      <td>2.1</td>\n",
       "      <td>6.5</td>\n",
       "      <td>0.326</td>\n",
       "      <td>...</td>\n",
       "      <td>0</td>\n",
       "      <td>0</td>\n",
       "      <td>0</td>\n",
       "      <td>0</td>\n",
       "      <td>0</td>\n",
       "      <td>0</td>\n",
       "      <td>0</td>\n",
       "      <td>1</td>\n",
       "      <td>1</td>\n",
       "      <td>0</td>\n",
       "    </tr>\n",
       "    <tr>\n",
       "      <th>4</th>\n",
       "      <td>23</td>\n",
       "      <td>70</td>\n",
       "      <td>70</td>\n",
       "      <td>35.9</td>\n",
       "      <td>9.0</td>\n",
       "      <td>18.3</td>\n",
       "      <td>0.489</td>\n",
       "      <td>2.0</td>\n",
       "      <td>5.7</td>\n",
       "      <td>0.354</td>\n",
       "      <td>...</td>\n",
       "      <td>0</td>\n",
       "      <td>0</td>\n",
       "      <td>0</td>\n",
       "      <td>0</td>\n",
       "      <td>0</td>\n",
       "      <td>0</td>\n",
       "      <td>0</td>\n",
       "      <td>1</td>\n",
       "      <td>1</td>\n",
       "      <td>0</td>\n",
       "    </tr>\n",
       "  </tbody>\n",
       "</table>\n",
       "<p>5 rows × 79 columns</p>\n",
       "</div>"
      ],
      "text/plain": [
       "   Age   G  GS    MP   FG   FGA    FG%   3P  3PA    3P%  ...  Player_Oladipo  \\\n",
       "0   19  76  51  27.7  4.8  11.4  0.423  1.3  3.8  0.343  ...               0   \n",
       "1   20  78  78  35.0  7.8  18.3  0.423  1.9  5.2  0.363  ...               0   \n",
       "2   21  54  54  34.5  8.4  19.5  0.432  2.7  7.1  0.383  ...               0   \n",
       "3   22  64  64  35.0  9.2  19.6  0.467  2.1  6.5  0.326  ...               0   \n",
       "4   23  70  70  35.9  9.0  18.3  0.489  2.0  5.7  0.354  ...               0   \n",
       "\n",
       "   Player_Schroder  Player_Thompson  Player_Westbrook  Pos_PG  Pos_PG,SG  \\\n",
       "0                0                0                 0       0          0   \n",
       "1                0                0                 0       0          0   \n",
       "2                0                0                 0       0          0   \n",
       "3                0                0                 0       0          0   \n",
       "4                0                0                 0       0          0   \n",
       "\n",
       "   Pos_SF  Pos_SG  Max_No  Max_Yes  \n",
       "0       0       1       1        0  \n",
       "1       0       1       1        0  \n",
       "2       0       1       1        0  \n",
       "3       0       1       1        0  \n",
       "4       0       1       1        0  \n",
       "\n",
       "[5 rows x 79 columns]"
      ]
     },
     "execution_count": 7,
     "metadata": {},
     "output_type": "execute_result"
    }
   ],
   "source": [
    "df.head()"
   ]
  },
  {
   "cell_type": "code",
   "execution_count": 8,
   "id": "10383d47",
   "metadata": {},
   "outputs": [],
   "source": [
    "from sklearn.model_selection import train_test_split"
   ]
  },
  {
   "cell_type": "code",
   "execution_count": 9,
   "id": "907ab768",
   "metadata": {},
   "outputs": [],
   "source": [
    "X= df.drop(['PTS'],axis=1)\n",
    "y=df['PTS']"
   ]
  },
  {
   "cell_type": "code",
   "execution_count": 10,
   "id": "7e4e3e7e",
   "metadata": {},
   "outputs": [],
   "source": [
    "X_train, X_test, y_train, y_test = train_test_split(X, y, test_size=.2, random_state=1)\n",
    "X_train = pd.get_dummies(X_train)\n",
    "X_test = pd.get_dummies(X_test)"
   ]
  },
  {
   "cell_type": "code",
   "execution_count": 11,
   "id": "05cd1fb8",
   "metadata": {},
   "outputs": [],
   "source": [
    "#Import ML models:\n",
    "\n",
    "from sklearn.model_selection import train_test_split\n",
    "from sklearn.model_selection import cross_val_score\n",
    "from sklearn.preprocessing import MinMaxScaler\n",
    "from sklearn.linear_model import LogisticRegression\n",
    "from sklearn.model_selection import GridSearchCV\n",
    "from sklearn.metrics import accuracy_score\n",
    "from sklearn.model_selection import validation_curve\n",
    "\n",
    "# Splitting the dataset into training and test set:\n",
    "\n",
    "X_train, X_test, y_train, y_test = train_test_split(X, y, test_size=0.3, random_state=42)\n",
    "\n",
    "# Feature Scaling:\n",
    "\n"
   ]
  },
  {
   "cell_type": "code",
   "execution_count": 12,
   "id": "1cba4016",
   "metadata": {},
   "outputs": [],
   "source": [
    "scaler_x = MinMaxScaler((-1,1))\n",
    "X_train = scaler_x.fit_transform(X_train)\n",
    "X_test = scaler_x.transform(X_test)"
   ]
  },
  {
   "cell_type": "code",
   "execution_count": 13,
   "id": "c9030350",
   "metadata": {},
   "outputs": [],
   "source": [
    "from sklearn import linear_model"
   ]
  },
  {
   "cell_type": "code",
   "execution_count": 14,
   "id": "ac702f3a",
   "metadata": {},
   "outputs": [
    {
     "data": {
      "text/plain": [
       "LinearRegression()"
      ]
     },
     "execution_count": 14,
     "metadata": {},
     "output_type": "execute_result"
    }
   ],
   "source": [
    "reg=linear_model.LinearRegression()\n",
    "reg.fit(X_train,y_train)"
   ]
  },
  {
   "cell_type": "code",
   "execution_count": 15,
   "id": "afabe2c3",
   "metadata": {},
   "outputs": [
    {
     "data": {
      "text/plain": [
       "20.88925534977957"
      ]
     },
     "execution_count": 15,
     "metadata": {},
     "output_type": "execute_result"
    }
   ],
   "source": [
    "reg.intercept_"
   ]
  },
  {
   "cell_type": "code",
   "execution_count": 16,
   "id": "eea2be04",
   "metadata": {},
   "outputs": [
    {
     "data": {
      "text/plain": [
       "array([25.39062807, 24.61068308, 25.72042516, 16.8281431 , 19.97976075,\n",
       "       22.92186535, 14.6352831 , 14.59764033, 10.86803058, 20.03714806,\n",
       "       23.0928499 , 21.63518094,  9.43879599, 26.69347389, 14.4705263 ,\n",
       "       15.95429586, 29.12255203, 10.00592237, 14.40749352, 15.56059173,\n",
       "       31.800871  , 22.87477077, 16.93830656, 23.97160631, 14.01919766,\n",
       "       21.10120255, 17.17062748, 14.04022038, 16.15395994, 13.76000691,\n",
       "       23.89035566, 24.6695146 , 17.87110817, 22.13197027, 13.74560917,\n",
       "       15.58526727, 10.99723255, 26.52210735, 16.5640979 ])"
      ]
     },
     "execution_count": 16,
     "metadata": {},
     "output_type": "execute_result"
    }
   ],
   "source": [
    "reg.predict(X_test)"
   ]
  },
  {
   "cell_type": "code",
   "execution_count": 17,
   "id": "a197d2af",
   "metadata": {},
   "outputs": [
    {
     "data": {
      "text/plain": [
       "0.9995954467039481"
      ]
     },
     "execution_count": 17,
     "metadata": {},
     "output_type": "execute_result"
    }
   ],
   "source": [
    "reg.score(X_test,y_test)"
   ]
  },
  {
   "cell_type": "code",
   "execution_count": 18,
   "id": "29ee9ae2",
   "metadata": {},
   "outputs": [
    {
     "name": "stdout",
     "output_type": "stream",
     "text": [
      "[nan nan nan nan nan]\n",
      "Mean cross validation test score: nan\n",
      "Mean cross validation train score: nan\n",
      "Standard deviation in cv test scores: nan\n"
     ]
    }
   ],
   "source": [
    "cv_scores_test= cross_val_score(reg,X_test,y_test,cv=5,scoring='roc_auc')\n",
    "cv_scores_train= cross_val_score(reg,X_train,y_train,cv=5,scoring='roc_auc')\n",
    "print(cv_scores_test)\n",
    "cv_scores_lr_test= cv_scores_test.mean()\n",
    "cv_scores_lr_train= cv_scores_train.mean()\n",
    "cv_scores_std_test_lr= cv_scores_test.std()\n",
    "print ('Mean cross validation test score: ' +str(cv_scores_lr_test))\n",
    "print ('Mean cross validation train score: ' +str(cv_scores_lr_train))\n",
    "print ('Standard deviation in cv test scores: ' +str(cv_scores_std_test_lr))"
   ]
  },
  {
   "cell_type": "code",
   "execution_count": 19,
   "id": "fdc72339",
   "metadata": {},
   "outputs": [],
   "source": [
    "#This score seems too accurate and may overfit. \n",
    "#It also doesn't help determain who gets a max contract, but can be useful in finding how to imporve stats. "
   ]
  },
  {
   "cell_type": "code",
   "execution_count": null,
   "id": "abad3a73",
   "metadata": {},
   "outputs": [],
   "source": []
  },
  {
   "cell_type": "code",
   "execution_count": 20,
   "id": "89755832",
   "metadata": {},
   "outputs": [],
   "source": [
    "#ClassifierSetUp"
   ]
  },
  {
   "cell_type": "code",
   "execution_count": 21,
   "id": "acc31aad",
   "metadata": {},
   "outputs": [],
   "source": [
    "from sklearn.ensemble import RandomForestClassifier"
   ]
  },
  {
   "cell_type": "code",
   "execution_count": 22,
   "id": "0e1b22ba",
   "metadata": {},
   "outputs": [
    {
     "data": {
      "text/html": [
       "<div>\n",
       "<style scoped>\n",
       "    .dataframe tbody tr th:only-of-type {\n",
       "        vertical-align: middle;\n",
       "    }\n",
       "\n",
       "    .dataframe tbody tr th {\n",
       "        vertical-align: top;\n",
       "    }\n",
       "\n",
       "    .dataframe thead th {\n",
       "        text-align: right;\n",
       "    }\n",
       "</style>\n",
       "<table border=\"1\" class=\"dataframe\">\n",
       "  <thead>\n",
       "    <tr style=\"text-align: right;\">\n",
       "      <th></th>\n",
       "      <th>Season</th>\n",
       "      <th>Age</th>\n",
       "      <th>Tm</th>\n",
       "      <th>Player</th>\n",
       "      <th>Pos</th>\n",
       "      <th>G</th>\n",
       "      <th>GS</th>\n",
       "      <th>MP</th>\n",
       "      <th>FG</th>\n",
       "      <th>FGA</th>\n",
       "      <th>...</th>\n",
       "      <th>ORB</th>\n",
       "      <th>DRB</th>\n",
       "      <th>TRB</th>\n",
       "      <th>AST</th>\n",
       "      <th>STL</th>\n",
       "      <th>BLK</th>\n",
       "      <th>TOV</th>\n",
       "      <th>PF</th>\n",
       "      <th>PTS</th>\n",
       "      <th>Max</th>\n",
       "    </tr>\n",
       "  </thead>\n",
       "  <tbody>\n",
       "    <tr>\n",
       "      <th>0</th>\n",
       "      <td>2015-16</td>\n",
       "      <td>19</td>\n",
       "      <td>PHO</td>\n",
       "      <td>Booker</td>\n",
       "      <td>SG</td>\n",
       "      <td>76</td>\n",
       "      <td>51</td>\n",
       "      <td>27.7</td>\n",
       "      <td>4.8</td>\n",
       "      <td>11.4</td>\n",
       "      <td>...</td>\n",
       "      <td>0.4</td>\n",
       "      <td>2.1</td>\n",
       "      <td>2.5</td>\n",
       "      <td>2.6</td>\n",
       "      <td>0.6</td>\n",
       "      <td>0.3</td>\n",
       "      <td>2.1</td>\n",
       "      <td>3.0</td>\n",
       "      <td>13.8</td>\n",
       "      <td>No</td>\n",
       "    </tr>\n",
       "    <tr>\n",
       "      <th>1</th>\n",
       "      <td>2016-17</td>\n",
       "      <td>20</td>\n",
       "      <td>PHO</td>\n",
       "      <td>Booker</td>\n",
       "      <td>SG</td>\n",
       "      <td>78</td>\n",
       "      <td>78</td>\n",
       "      <td>35.0</td>\n",
       "      <td>7.8</td>\n",
       "      <td>18.3</td>\n",
       "      <td>...</td>\n",
       "      <td>0.6</td>\n",
       "      <td>2.6</td>\n",
       "      <td>3.2</td>\n",
       "      <td>3.4</td>\n",
       "      <td>0.9</td>\n",
       "      <td>0.3</td>\n",
       "      <td>3.1</td>\n",
       "      <td>3.1</td>\n",
       "      <td>22.1</td>\n",
       "      <td>No</td>\n",
       "    </tr>\n",
       "    <tr>\n",
       "      <th>2</th>\n",
       "      <td>2017-18</td>\n",
       "      <td>21</td>\n",
       "      <td>PHO</td>\n",
       "      <td>Booker</td>\n",
       "      <td>SG</td>\n",
       "      <td>54</td>\n",
       "      <td>54</td>\n",
       "      <td>34.5</td>\n",
       "      <td>8.4</td>\n",
       "      <td>19.5</td>\n",
       "      <td>...</td>\n",
       "      <td>0.5</td>\n",
       "      <td>4.0</td>\n",
       "      <td>4.5</td>\n",
       "      <td>4.7</td>\n",
       "      <td>0.9</td>\n",
       "      <td>0.3</td>\n",
       "      <td>3.6</td>\n",
       "      <td>3.1</td>\n",
       "      <td>24.9</td>\n",
       "      <td>No</td>\n",
       "    </tr>\n",
       "    <tr>\n",
       "      <th>3</th>\n",
       "      <td>2018-19</td>\n",
       "      <td>22</td>\n",
       "      <td>PHO</td>\n",
       "      <td>Booker</td>\n",
       "      <td>SG</td>\n",
       "      <td>64</td>\n",
       "      <td>64</td>\n",
       "      <td>35.0</td>\n",
       "      <td>9.2</td>\n",
       "      <td>19.6</td>\n",
       "      <td>...</td>\n",
       "      <td>0.6</td>\n",
       "      <td>3.5</td>\n",
       "      <td>4.1</td>\n",
       "      <td>6.8</td>\n",
       "      <td>0.9</td>\n",
       "      <td>0.2</td>\n",
       "      <td>4.1</td>\n",
       "      <td>3.1</td>\n",
       "      <td>26.6</td>\n",
       "      <td>No</td>\n",
       "    </tr>\n",
       "    <tr>\n",
       "      <th>4</th>\n",
       "      <td>2019-20</td>\n",
       "      <td>23</td>\n",
       "      <td>PHO</td>\n",
       "      <td>Booker</td>\n",
       "      <td>SG</td>\n",
       "      <td>70</td>\n",
       "      <td>70</td>\n",
       "      <td>35.9</td>\n",
       "      <td>9.0</td>\n",
       "      <td>18.3</td>\n",
       "      <td>...</td>\n",
       "      <td>0.4</td>\n",
       "      <td>3.8</td>\n",
       "      <td>4.2</td>\n",
       "      <td>6.5</td>\n",
       "      <td>0.7</td>\n",
       "      <td>0.3</td>\n",
       "      <td>3.8</td>\n",
       "      <td>3.0</td>\n",
       "      <td>26.6</td>\n",
       "      <td>No</td>\n",
       "    </tr>\n",
       "    <tr>\n",
       "      <th>...</th>\n",
       "      <td>...</td>\n",
       "      <td>...</td>\n",
       "      <td>...</td>\n",
       "      <td>...</td>\n",
       "      <td>...</td>\n",
       "      <td>...</td>\n",
       "      <td>...</td>\n",
       "      <td>...</td>\n",
       "      <td>...</td>\n",
       "      <td>...</td>\n",
       "      <td>...</td>\n",
       "      <td>...</td>\n",
       "      <td>...</td>\n",
       "      <td>...</td>\n",
       "      <td>...</td>\n",
       "      <td>...</td>\n",
       "      <td>...</td>\n",
       "      <td>...</td>\n",
       "      <td>...</td>\n",
       "      <td>...</td>\n",
       "      <td>...</td>\n",
       "    </tr>\n",
       "    <tr>\n",
       "      <th>123</th>\n",
       "      <td>2017-18</td>\n",
       "      <td>29</td>\n",
       "      <td>HOU</td>\n",
       "      <td>Gordon</td>\n",
       "      <td>SG</td>\n",
       "      <td>69</td>\n",
       "      <td>30</td>\n",
       "      <td>31.2</td>\n",
       "      <td>6.0</td>\n",
       "      <td>14.1</td>\n",
       "      <td>...</td>\n",
       "      <td>0.4</td>\n",
       "      <td>2.1</td>\n",
       "      <td>2.5</td>\n",
       "      <td>2.2</td>\n",
       "      <td>0.6</td>\n",
       "      <td>0.4</td>\n",
       "      <td>1.9</td>\n",
       "      <td>1.7</td>\n",
       "      <td>18.0</td>\n",
       "      <td>No</td>\n",
       "    </tr>\n",
       "    <tr>\n",
       "      <th>124</th>\n",
       "      <td>2018-19</td>\n",
       "      <td>30</td>\n",
       "      <td>HOU</td>\n",
       "      <td>Gordon</td>\n",
       "      <td>SG</td>\n",
       "      <td>68</td>\n",
       "      <td>53</td>\n",
       "      <td>31.7</td>\n",
       "      <td>5.6</td>\n",
       "      <td>13.8</td>\n",
       "      <td>...</td>\n",
       "      <td>0.3</td>\n",
       "      <td>1.9</td>\n",
       "      <td>2.2</td>\n",
       "      <td>1.9</td>\n",
       "      <td>0.6</td>\n",
       "      <td>0.4</td>\n",
       "      <td>1.3</td>\n",
       "      <td>2.1</td>\n",
       "      <td>16.2</td>\n",
       "      <td>No</td>\n",
       "    </tr>\n",
       "    <tr>\n",
       "      <th>125</th>\n",
       "      <td>2019-20</td>\n",
       "      <td>31</td>\n",
       "      <td>HOU</td>\n",
       "      <td>Gordon</td>\n",
       "      <td>SF</td>\n",
       "      <td>36</td>\n",
       "      <td>15</td>\n",
       "      <td>28.2</td>\n",
       "      <td>4.8</td>\n",
       "      <td>12.9</td>\n",
       "      <td>...</td>\n",
       "      <td>0.3</td>\n",
       "      <td>1.7</td>\n",
       "      <td>2.0</td>\n",
       "      <td>1.5</td>\n",
       "      <td>0.6</td>\n",
       "      <td>0.4</td>\n",
       "      <td>1.2</td>\n",
       "      <td>1.9</td>\n",
       "      <td>14.4</td>\n",
       "      <td>No</td>\n",
       "    </tr>\n",
       "    <tr>\n",
       "      <th>126</th>\n",
       "      <td>2020-21</td>\n",
       "      <td>32</td>\n",
       "      <td>HOU</td>\n",
       "      <td>Gordon</td>\n",
       "      <td>SG</td>\n",
       "      <td>27</td>\n",
       "      <td>13</td>\n",
       "      <td>29.2</td>\n",
       "      <td>5.9</td>\n",
       "      <td>13.6</td>\n",
       "      <td>...</td>\n",
       "      <td>0.3</td>\n",
       "      <td>1.9</td>\n",
       "      <td>2.1</td>\n",
       "      <td>2.6</td>\n",
       "      <td>0.5</td>\n",
       "      <td>0.5</td>\n",
       "      <td>1.9</td>\n",
       "      <td>1.6</td>\n",
       "      <td>17.8</td>\n",
       "      <td>No</td>\n",
       "    </tr>\n",
       "    <tr>\n",
       "      <th>127</th>\n",
       "      <td>2021-22</td>\n",
       "      <td>33</td>\n",
       "      <td>HOU</td>\n",
       "      <td>Gordon</td>\n",
       "      <td>SG</td>\n",
       "      <td>57</td>\n",
       "      <td>46</td>\n",
       "      <td>29.3</td>\n",
       "      <td>4.7</td>\n",
       "      <td>9.9</td>\n",
       "      <td>...</td>\n",
       "      <td>0.3</td>\n",
       "      <td>1.7</td>\n",
       "      <td>2.0</td>\n",
       "      <td>2.7</td>\n",
       "      <td>0.5</td>\n",
       "      <td>0.3</td>\n",
       "      <td>1.9</td>\n",
       "      <td>1.1</td>\n",
       "      <td>13.4</td>\n",
       "      <td>No</td>\n",
       "    </tr>\n",
       "  </tbody>\n",
       "</table>\n",
       "<p>128 rows × 31 columns</p>\n",
       "</div>"
      ],
      "text/plain": [
       "      Season  Age   Tm  Player Pos   G  GS    MP   FG   FGA  ...  ORB  DRB  \\\n",
       "0    2015-16   19  PHO  Booker  SG  76  51  27.7  4.8  11.4  ...  0.4  2.1   \n",
       "1    2016-17   20  PHO  Booker  SG  78  78  35.0  7.8  18.3  ...  0.6  2.6   \n",
       "2    2017-18   21  PHO  Booker  SG  54  54  34.5  8.4  19.5  ...  0.5  4.0   \n",
       "3    2018-19   22  PHO  Booker  SG  64  64  35.0  9.2  19.6  ...  0.6  3.5   \n",
       "4    2019-20   23  PHO  Booker  SG  70  70  35.9  9.0  18.3  ...  0.4  3.8   \n",
       "..       ...  ...  ...     ...  ..  ..  ..   ...  ...   ...  ...  ...  ...   \n",
       "123  2017-18   29  HOU  Gordon  SG  69  30  31.2  6.0  14.1  ...  0.4  2.1   \n",
       "124  2018-19   30  HOU  Gordon  SG  68  53  31.7  5.6  13.8  ...  0.3  1.9   \n",
       "125  2019-20   31  HOU  Gordon  SF  36  15  28.2  4.8  12.9  ...  0.3  1.7   \n",
       "126  2020-21   32  HOU  Gordon  SG  27  13  29.2  5.9  13.6  ...  0.3  1.9   \n",
       "127  2021-22   33  HOU  Gordon  SG  57  46  29.3  4.7   9.9  ...  0.3  1.7   \n",
       "\n",
       "     TRB  AST  STL  BLK  TOV   PF   PTS  Max  \n",
       "0    2.5  2.6  0.6  0.3  2.1  3.0  13.8   No  \n",
       "1    3.2  3.4  0.9  0.3  3.1  3.1  22.1   No  \n",
       "2    4.5  4.7  0.9  0.3  3.6  3.1  24.9   No  \n",
       "3    4.1  6.8  0.9  0.2  4.1  3.1  26.6   No  \n",
       "4    4.2  6.5  0.7  0.3  3.8  3.0  26.6   No  \n",
       "..   ...  ...  ...  ...  ...  ...   ...  ...  \n",
       "123  2.5  2.2  0.6  0.4  1.9  1.7  18.0   No  \n",
       "124  2.2  1.9  0.6  0.4  1.3  2.1  16.2   No  \n",
       "125  2.0  1.5  0.6  0.4  1.2  1.9  14.4   No  \n",
       "126  2.1  2.6  0.5  0.5  1.9  1.6  17.8   No  \n",
       "127  2.0  2.7  0.5  0.3  1.9  1.1  13.4   No  \n",
       "\n",
       "[128 rows x 31 columns]"
      ]
     },
     "execution_count": 22,
     "metadata": {},
     "output_type": "execute_result"
    }
   ],
   "source": [
    "df1 = pd.read_csv('NBA_Contract_Data_csv.csv')\n",
    "df1"
   ]
  },
  {
   "cell_type": "code",
   "execution_count": 23,
   "id": "13c4e4e4",
   "metadata": {},
   "outputs": [
    {
     "data": {
      "text/plain": [
       "Index(['Season', 'Age', 'Tm', 'Player', 'Pos', 'G', 'GS', 'MP', 'FG', 'FGA',\n",
       "       'FG%', '3P', '3PA', '3P%', '2P', '2PA', '2P%', 'eFG%', 'FT', 'FTA',\n",
       "       'FT%', 'ORB', 'DRB', 'TRB', 'AST', 'STL', 'BLK', 'TOV', 'PF', 'PTS',\n",
       "       'Max'],\n",
       "      dtype='object')"
      ]
     },
     "execution_count": 23,
     "metadata": {},
     "output_type": "execute_result"
    }
   ],
   "source": [
    "df1.columns"
   ]
  },
  {
   "cell_type": "code",
   "execution_count": 24,
   "id": "a8c299da",
   "metadata": {},
   "outputs": [],
   "source": [
    "dfo1=df1.select_dtypes(include=['object'])"
   ]
  },
  {
   "cell_type": "code",
   "execution_count": 25,
   "id": "7551f70c",
   "metadata": {},
   "outputs": [
    {
     "data": {
      "text/html": [
       "<div>\n",
       "<style scoped>\n",
       "    .dataframe tbody tr th:only-of-type {\n",
       "        vertical-align: middle;\n",
       "    }\n",
       "\n",
       "    .dataframe tbody tr th {\n",
       "        vertical-align: top;\n",
       "    }\n",
       "\n",
       "    .dataframe thead th {\n",
       "        text-align: right;\n",
       "    }\n",
       "</style>\n",
       "<table border=\"1\" class=\"dataframe\">\n",
       "  <thead>\n",
       "    <tr style=\"text-align: right;\">\n",
       "      <th></th>\n",
       "      <th>Season</th>\n",
       "      <th>Tm</th>\n",
       "      <th>Player</th>\n",
       "      <th>Pos</th>\n",
       "      <th>Max</th>\n",
       "    </tr>\n",
       "  </thead>\n",
       "  <tbody>\n",
       "    <tr>\n",
       "      <th>0</th>\n",
       "      <td>2015-16</td>\n",
       "      <td>PHO</td>\n",
       "      <td>Booker</td>\n",
       "      <td>SG</td>\n",
       "      <td>No</td>\n",
       "    </tr>\n",
       "    <tr>\n",
       "      <th>1</th>\n",
       "      <td>2016-17</td>\n",
       "      <td>PHO</td>\n",
       "      <td>Booker</td>\n",
       "      <td>SG</td>\n",
       "      <td>No</td>\n",
       "    </tr>\n",
       "    <tr>\n",
       "      <th>2</th>\n",
       "      <td>2017-18</td>\n",
       "      <td>PHO</td>\n",
       "      <td>Booker</td>\n",
       "      <td>SG</td>\n",
       "      <td>No</td>\n",
       "    </tr>\n",
       "    <tr>\n",
       "      <th>3</th>\n",
       "      <td>2018-19</td>\n",
       "      <td>PHO</td>\n",
       "      <td>Booker</td>\n",
       "      <td>SG</td>\n",
       "      <td>No</td>\n",
       "    </tr>\n",
       "    <tr>\n",
       "      <th>4</th>\n",
       "      <td>2019-20</td>\n",
       "      <td>PHO</td>\n",
       "      <td>Booker</td>\n",
       "      <td>SG</td>\n",
       "      <td>No</td>\n",
       "    </tr>\n",
       "    <tr>\n",
       "      <th>...</th>\n",
       "      <td>...</td>\n",
       "      <td>...</td>\n",
       "      <td>...</td>\n",
       "      <td>...</td>\n",
       "      <td>...</td>\n",
       "    </tr>\n",
       "    <tr>\n",
       "      <th>123</th>\n",
       "      <td>2017-18</td>\n",
       "      <td>HOU</td>\n",
       "      <td>Gordon</td>\n",
       "      <td>SG</td>\n",
       "      <td>No</td>\n",
       "    </tr>\n",
       "    <tr>\n",
       "      <th>124</th>\n",
       "      <td>2018-19</td>\n",
       "      <td>HOU</td>\n",
       "      <td>Gordon</td>\n",
       "      <td>SG</td>\n",
       "      <td>No</td>\n",
       "    </tr>\n",
       "    <tr>\n",
       "      <th>125</th>\n",
       "      <td>2019-20</td>\n",
       "      <td>HOU</td>\n",
       "      <td>Gordon</td>\n",
       "      <td>SF</td>\n",
       "      <td>No</td>\n",
       "    </tr>\n",
       "    <tr>\n",
       "      <th>126</th>\n",
       "      <td>2020-21</td>\n",
       "      <td>HOU</td>\n",
       "      <td>Gordon</td>\n",
       "      <td>SG</td>\n",
       "      <td>No</td>\n",
       "    </tr>\n",
       "    <tr>\n",
       "      <th>127</th>\n",
       "      <td>2021-22</td>\n",
       "      <td>HOU</td>\n",
       "      <td>Gordon</td>\n",
       "      <td>SG</td>\n",
       "      <td>No</td>\n",
       "    </tr>\n",
       "  </tbody>\n",
       "</table>\n",
       "<p>128 rows × 5 columns</p>\n",
       "</div>"
      ],
      "text/plain": [
       "      Season   Tm  Player Pos Max\n",
       "0    2015-16  PHO  Booker  SG  No\n",
       "1    2016-17  PHO  Booker  SG  No\n",
       "2    2017-18  PHO  Booker  SG  No\n",
       "3    2018-19  PHO  Booker  SG  No\n",
       "4    2019-20  PHO  Booker  SG  No\n",
       "..       ...  ...     ...  ..  ..\n",
       "123  2017-18  HOU  Gordon  SG  No\n",
       "124  2018-19  HOU  Gordon  SG  No\n",
       "125  2019-20  HOU  Gordon  SF  No\n",
       "126  2020-21  HOU  Gordon  SG  No\n",
       "127  2021-22  HOU  Gordon  SG  No\n",
       "\n",
       "[128 rows x 5 columns]"
      ]
     },
     "execution_count": 25,
     "metadata": {},
     "output_type": "execute_result"
    }
   ],
   "source": [
    "dfo1"
   ]
  },
  {
   "cell_type": "code",
   "execution_count": 26,
   "id": "f830fb84",
   "metadata": {},
   "outputs": [],
   "source": [
    "X1= df1.drop(['Max'],axis=1)\n",
    "y1=df1['Max']"
   ]
  },
  {
   "cell_type": "code",
   "execution_count": 27,
   "id": "5d173735",
   "metadata": {},
   "outputs": [],
   "source": [
    "X_train, X_test, y_train, y_test = train_test_split(X1, y1, test_size=.35, random_state=1)\n",
    "X_train = pd.get_dummies(X_train)\n",
    "X_test = pd.get_dummies(X_test)"
   ]
  },
  {
   "cell_type": "code",
   "execution_count": null,
   "id": "3c1b799b",
   "metadata": {},
   "outputs": [],
   "source": []
  },
  {
   "cell_type": "code",
   "execution_count": 28,
   "id": "78230571",
   "metadata": {},
   "outputs": [],
   "source": [
    "#RandomForest"
   ]
  },
  {
   "cell_type": "code",
   "execution_count": 29,
   "id": "710ba254",
   "metadata": {},
   "outputs": [
    {
     "data": {
      "text/plain": [
       "RandomForestClassifier(criterion='entropy')"
      ]
     },
     "execution_count": 29,
     "metadata": {},
     "output_type": "execute_result"
    }
   ],
   "source": [
    "from sklearn.ensemble import RandomForestClassifier\n",
    "rfc=RandomForestClassifier(bootstrap=True,n_estimators=100,criterion='entropy')\n",
    "rfc.fit(X_train,y_train)"
   ]
  },
  {
   "cell_type": "code",
   "execution_count": 30,
   "id": "8934bbea",
   "metadata": {},
   "outputs": [
    {
     "data": {
      "text/plain": [
       "array(['No', 'No', 'Yes', 'Yes', 'Yes', 'No', 'No', 'Yes', 'No', 'Yes',\n",
       "       'No', 'No', 'Yes', 'Yes', 'No', 'Yes', 'Yes', 'Yes', 'No', 'No',\n",
       "       'No', 'No', 'Yes', 'No', 'No', 'No', 'No', 'Yes', 'No', 'Yes',\n",
       "       'Yes', 'Yes', 'No', 'No', 'No', 'Yes', 'Yes', 'No', 'No', 'Yes',\n",
       "       'Yes', 'Yes', 'No', 'Yes', 'Yes'], dtype=object)"
      ]
     },
     "execution_count": 30,
     "metadata": {},
     "output_type": "execute_result"
    }
   ],
   "source": [
    "y_pred_rf=rfc.predict(X_test)\n",
    "y_pred_rf"
   ]
  },
  {
   "cell_type": "code",
   "execution_count": 31,
   "id": "ccc1decf",
   "metadata": {},
   "outputs": [
    {
     "data": {
      "text/plain": [
       "0.9111111111111111"
      ]
     },
     "execution_count": 31,
     "metadata": {},
     "output_type": "execute_result"
    }
   ],
   "source": [
    "rfc.score(X_test,y_test)"
   ]
  },
  {
   "cell_type": "code",
   "execution_count": 300,
   "id": "c60ecfb1",
   "metadata": {},
   "outputs": [
    {
     "data": {
      "text/plain": [
       "array([[22,  1],\n",
       "       [ 2, 20]], dtype=int64)"
      ]
     },
     "execution_count": 300,
     "metadata": {},
     "output_type": "execute_result"
    }
   ],
   "source": [
    "rfc_matrix=confusion_matrix(y_test,y_pred_rf)\n",
    "rfc_matrix"
   ]
  },
  {
   "cell_type": "code",
   "execution_count": 261,
   "id": "09014695",
   "metadata": {},
   "outputs": [],
   "source": [
    "#The accuracy is high, but seems more plausible than regression.\n",
    "#Much like in the NBA, many players eligible for the SuperMax contract are usually offered the contract."
   ]
  },
  {
   "cell_type": "code",
   "execution_count": null,
   "id": "adaac761",
   "metadata": {},
   "outputs": [],
   "source": []
  },
  {
   "cell_type": "code",
   "execution_count": 33,
   "id": "bbcf15b4",
   "metadata": {},
   "outputs": [],
   "source": [
    "#DecisionTree"
   ]
  },
  {
   "cell_type": "code",
   "execution_count": 34,
   "id": "ec2ddfb1",
   "metadata": {},
   "outputs": [],
   "source": [
    "from sklearn.tree import DecisionTreeClassifier"
   ]
  },
  {
   "cell_type": "code",
   "execution_count": 35,
   "id": "991dd21c",
   "metadata": {},
   "outputs": [],
   "source": [
    "dtc=DecisionTreeClassifier(random_state=1)"
   ]
  },
  {
   "cell_type": "code",
   "execution_count": 36,
   "id": "cfd04ec4",
   "metadata": {},
   "outputs": [
    {
     "data": {
      "text/plain": [
       "DecisionTreeClassifier(random_state=1)"
      ]
     },
     "execution_count": 36,
     "metadata": {},
     "output_type": "execute_result"
    }
   ],
   "source": [
    "dtc.fit(X_train,y_train)"
   ]
  },
  {
   "cell_type": "code",
   "execution_count": 37,
   "id": "8296ebf3",
   "metadata": {},
   "outputs": [
    {
     "data": {
      "text/plain": [
       "array(['No', 'Yes', 'Yes', 'Yes', 'Yes', 'No', 'No', 'Yes', 'No', 'Yes',\n",
       "       'Yes', 'Yes', 'Yes', 'Yes', 'Yes', 'Yes', 'Yes', 'Yes', 'No',\n",
       "       'Yes', 'No', 'No', 'Yes', 'No', 'Yes', 'Yes', 'Yes', 'Yes', 'No',\n",
       "       'Yes', 'Yes', 'Yes', 'No', 'No', 'No', 'Yes', 'Yes', 'Yes', 'No',\n",
       "       'No', 'Yes', 'Yes', 'No', 'Yes', 'Yes'], dtype=object)"
      ]
     },
     "execution_count": 37,
     "metadata": {},
     "output_type": "execute_result"
    }
   ],
   "source": [
    "y_pred_dtf=dtc.predict(X_test)\n",
    "y_pred_dtf"
   ]
  },
  {
   "cell_type": "code",
   "execution_count": 38,
   "id": "fb13e39a",
   "metadata": {},
   "outputs": [
    {
     "data": {
      "text/plain": [
       "0.6888888888888889"
      ]
     },
     "execution_count": 38,
     "metadata": {},
     "output_type": "execute_result"
    }
   ],
   "source": [
    "dtc.score(X_test,y_test)"
   ]
  },
  {
   "cell_type": "code",
   "execution_count": 39,
   "id": "4ddc23f6",
   "metadata": {},
   "outputs": [
    {
     "data": {
      "text/plain": [
       "array([[12, 11],\n",
       "       [ 3, 19]], dtype=int64)"
      ]
     },
     "execution_count": 39,
     "metadata": {},
     "output_type": "execute_result"
    }
   ],
   "source": [
    "dtc_matrix=confusion_matrix(y_test,y_pred_dtf)\n",
    "dtc_matrix"
   ]
  },
  {
   "cell_type": "code",
   "execution_count": null,
   "id": "936fe90f",
   "metadata": {},
   "outputs": [],
   "source": [
    "#The results are less accurate compared to random forest because it is restricted by the use of only one decision tree."
   ]
  },
  {
   "cell_type": "code",
   "execution_count": 40,
   "id": "18692072",
   "metadata": {},
   "outputs": [],
   "source": [
    "#GradientBoosting"
   ]
  },
  {
   "cell_type": "code",
   "execution_count": 41,
   "id": "e2860290",
   "metadata": {},
   "outputs": [
    {
     "data": {
      "text/plain": [
       "GradientBoostingClassifier(learning_rate=0.06, max_depth=8, max_leaf_nodes=100,\n",
       "                           n_estimators=160, random_state=6, subsample=0.7)"
      ]
     },
     "execution_count": 41,
     "metadata": {},
     "output_type": "execute_result"
    }
   ],
   "source": [
    "from sklearn.ensemble import ExtraTreesClassifier, GradientBoostingClassifier\n",
    "gbc = GradientBoostingClassifier(subsample=0.7, learning_rate=0.06 , n_estimators=160, random_state=6, max_depth=8, max_leaf_nodes=100)\n",
    "gbc.fit(X_train, y_train)"
   ]
  },
  {
   "cell_type": "code",
   "execution_count": 42,
   "id": "b6910963",
   "metadata": {},
   "outputs": [
    {
     "data": {
      "text/plain": [
       "array(['No', 'No', 'Yes', 'Yes', 'Yes', 'No', 'No', 'Yes', 'No', 'Yes',\n",
       "       'No', 'Yes', 'No', 'Yes', 'Yes', 'Yes', 'Yes', 'Yes', 'No', 'No',\n",
       "       'No', 'No', 'Yes', 'No', 'No', 'No', 'No', 'Yes', 'No', 'Yes',\n",
       "       'Yes', 'Yes', 'No', 'No', 'Yes', 'No', 'Yes', 'No', 'No', 'Yes',\n",
       "       'Yes', 'Yes', 'No', 'Yes', 'Yes'], dtype=object)"
      ]
     },
     "execution_count": 42,
     "metadata": {},
     "output_type": "execute_result"
    }
   ],
   "source": [
    "y_pred_gbc=gbc.predict(X_test)\n",
    "y_pred_gbc"
   ]
  },
  {
   "cell_type": "code",
   "execution_count": 43,
   "id": "28b549d2",
   "metadata": {},
   "outputs": [
    {
     "data": {
      "text/plain": [
       "0.8444444444444444"
      ]
     },
     "execution_count": 43,
     "metadata": {},
     "output_type": "execute_result"
    }
   ],
   "source": [
    "gbc.score(X_test,y_test)"
   ]
  },
  {
   "cell_type": "code",
   "execution_count": 44,
   "id": "0151924b",
   "metadata": {},
   "outputs": [
    {
     "data": {
      "text/plain": [
       "array([[19,  4],\n",
       "       [ 3, 19]], dtype=int64)"
      ]
     },
     "execution_count": 44,
     "metadata": {},
     "output_type": "execute_result"
    }
   ],
   "source": [
    "gbc_matrix=confusion_matrix(y_test,y_pred_gbc)\n",
    "gbc_matrix"
   ]
  },
  {
   "cell_type": "code",
   "execution_count": null,
   "id": "f91a7567",
   "metadata": {},
   "outputs": [],
   "source": [
    "#This method was very sensitive when it came to adjusting the hyperparmeters \n",
    "#Each parameter had a sweet spot to help its acurracy, the score went from around 0.66 all the way to a score of 0.84"
   ]
  }
 ],
 "metadata": {
  "kernelspec": {
   "display_name": "Python 3 (ipykernel)",
   "language": "python",
   "name": "python3"
  },
  "language_info": {
   "codemirror_mode": {
    "name": "ipython",
    "version": 3
   },
   "file_extension": ".py",
   "mimetype": "text/x-python",
   "name": "python",
   "nbconvert_exporter": "python",
   "pygments_lexer": "ipython3",
   "version": "3.9.7"
  },
  "widgets": {
   "application/vnd.jupyter.widget-state+json": {
    "state": {},
    "version_major": 2,
    "version_minor": 0
   }
  }
 },
 "nbformat": 4,
 "nbformat_minor": 5
}
